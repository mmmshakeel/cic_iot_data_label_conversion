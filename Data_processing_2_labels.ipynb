{
  "nbformat": 4,
  "nbformat_minor": 0,
  "metadata": {
    "colab": {
      "provenance": [],
      "authorship_tag": "ABX9TyOLP5Qhc52pWdTdA/Xe1DCN",
      "include_colab_link": true
    },
    "kernelspec": {
      "name": "python3",
      "display_name": "Python 3"
    },
    "language_info": {
      "name": "python"
    }
  },
  "cells": [
    {
      "cell_type": "markdown",
      "metadata": {
        "id": "view-in-github",
        "colab_type": "text"
      },
      "source": [
        "<a href=\"https://colab.research.google.com/github/mmmshakeel/cic_iot_data_label_conversion/blob/main/Data_processing_2_labels.ipynb\" target=\"_parent\"><img src=\"https://colab.research.google.com/assets/colab-badge.svg\" alt=\"Open In Colab\"/></a>"
      ]
    },
    {
      "cell_type": "code",
      "source": [
        "import pandas as pd\n",
        "from google.colab import drive\n",
        "import os\n",
        "\n",
        "drive.mount('/content/gdrive')"
      ],
      "metadata": {
        "colab": {
          "base_uri": "https://localhost:8080/"
        },
        "id": "IY7kefu1C8jR",
        "outputId": "87415b86-8276-45da-c07e-cf3792333faf"
      },
      "execution_count": null,
      "outputs": [
        {
          "output_type": "stream",
          "name": "stdout",
          "text": [
            "Drive already mounted at /content/gdrive; to attempt to forcibly remount, call drive.mount(\"/content/gdrive\", force_remount=True).\n"
          ]
        }
      ]
    },
    {
      "cell_type": "code",
      "execution_count": null,
      "metadata": {
        "colab": {
          "base_uri": "https://localhost:8080/"
        },
        "id": "22YCBkLcwJWz",
        "outputId": "cc029035-226a-49ea-f7db-dc7e47d692c2"
      },
      "outputs": [
        {
          "output_type": "stream",
          "name": "stdout",
          "text": [
            "==== Process complete ✔️\n"
          ]
        }
      ],
      "source": [
        "# List of all DDoS-related labels in the dataset\n",
        "ddos_labels = [\n",
        "    'DDoS-ACK_Fragmentation', 'DDoS-HTTP_Flood', 'DDoS-ICMP_Flood',\n",
        "    'DDoS-ICMP_Fragmentation', 'DDoS-PSHACK_Flood', 'DDoS-RSTFINFlood',\n",
        "    'DDoS-SYN_Flood', 'DDoS-SlowLoris', 'DDoS-SynonymousIP_Flood',\n",
        "    'DDoS-TCP_Flood', 'DDoS-UDP_Flood', 'DDoS-UDP_Fragmentation'\n",
        "]\n",
        "\n",
        "# Function to apply to each label\n",
        "def label_transform(label):\n",
        "    if label in ddos_labels:\n",
        "        return 'DDoS'\n",
        "    else:\n",
        "        return 'Non-DDoS'\n",
        "\n",
        "os.chdir('/content/gdrive/MyDrive/[03] Study/Colab Notebooks/Datasets/CICIoT_2023');\n",
        "\n",
        "for filename in os.listdir():\n",
        "  if filename.endswith('.csv'):\n",
        "    df = pd.read_csv(filename)\n",
        "\n",
        "    # apply the function to the 'label' column\n",
        "    df['label'] = df['label'].apply(label_transform)\n",
        "\n",
        "    # write the file into disk with the new labels\n",
        "    df.to_csv('/content/gdrive/MyDrive/[03] Study/Colab Notebooks/Datasets/CICIoT_2023_2_labels/' + filename)\n",
        "\n",
        "print('==== Process complete ✔️')"
      ]
    }
  ]
}